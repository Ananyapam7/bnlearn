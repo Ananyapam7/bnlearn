{
  "nbformat": 4,
  "nbformat_minor": 0,
  "metadata": {
    "colab": {
      "name": "sprinkler_knowlegde_driven.ipynb",
      "provenance": [],
      "authorship_tag": "ABX9TyM8fsE5odaFig+MOPzIPlP0",
      "include_colab_link": true
    },
    "kernelspec": {
      "name": "python3",
      "display_name": "Python 3"
    },
    "language_info": {
      "name": "python"
    }
  },
  "cells": [
    {
      "cell_type": "markdown",
      "metadata": {
        "id": "view-in-github",
        "colab_type": "text"
      },
      "source": [
        "<a href=\"https://colab.research.google.com/github/erdogant/bnlearn/blob/master/sprinkler_knowlegde_driven.ipynb\" target=\"_parent\"><img src=\"https://colab.research.google.com/assets/colab-badge.svg\" alt=\"Open In Colab\"/></a>"
      ]
    },
    {
      "cell_type": "code",
      "metadata": {
        "colab": {
          "base_uri": "https://localhost:8080/",
          "height": 1000
        },
        "id": "LIVD4xiUXOxu",
        "outputId": "5d86a3ca-0d70-41f3-e340-7da5cf9d5f17"
      },
      "source": [
        "!pip install bnlearn"
      ],
      "execution_count": 2,
      "outputs": [
        {
          "output_type": "stream",
          "text": [
            "Collecting bnlearn\n",
            "  Downloading bnlearn-0.3.21-py3-none-any.whl (38 kB)\n",
            "Collecting pgmpy>=0.1.13\n",
            "  Downloading pgmpy-0.1.15-py3-none-any.whl (1.9 MB)\n",
            "\u001b[K     |████████████████████████████████| 1.9 MB 5.2 MB/s \n",
            "\u001b[?25hRequirement already satisfied: numpy in /usr/local/lib/python3.7/dist-packages (from bnlearn) (1.19.5)\n",
            "Requirement already satisfied: tqdm in /usr/local/lib/python3.7/dist-packages (from bnlearn) (4.41.1)\n",
            "Requirement already satisfied: statsmodels in /usr/local/lib/python3.7/dist-packages (from bnlearn) (0.10.2)\n",
            "Requirement already satisfied: community in /usr/local/lib/python3.7/dist-packages (from bnlearn) (1.0.0b1)\n",
            "Collecting df2onehot\n",
            "  Downloading df2onehot-0.2.16-py3-none-any.whl (13 kB)\n",
            "Requirement already satisfied: sklearn in /usr/local/lib/python3.7/dist-packages (from bnlearn) (0.0)\n",
            "Requirement already satisfied: pandas in /usr/local/lib/python3.7/dist-packages (from bnlearn) (1.1.5)\n",
            "Collecting funcsigs\n",
            "  Downloading funcsigs-1.0.2-py2.py3-none-any.whl (17 kB)\n",
            "Collecting matplotlib>=3.3.4\n",
            "  Downloading matplotlib-3.4.2-cp37-cp37m-manylinux1_x86_64.whl (10.3 MB)\n",
            "\u001b[K     |████████████████████████████████| 10.3 MB 24.0 MB/s \n",
            "\u001b[?25hRequirement already satisfied: networkx>2.5 in /usr/local/lib/python3.7/dist-packages (from bnlearn) (2.5.1)\n",
            "Requirement already satisfied: packaging in /usr/local/lib/python3.7/dist-packages (from bnlearn) (21.0)\n",
            "Collecting wget\n",
            "  Downloading wget-3.2.zip (10 kB)\n",
            "Collecting fsspec\n",
            "  Downloading fsspec-2021.7.0-py3-none-any.whl (118 kB)\n",
            "\u001b[K     |████████████████████████████████| 118 kB 66.7 MB/s \n",
            "\u001b[?25hCollecting ismember\n",
            "  Downloading ismember-0.2.1-py3-none-any.whl (6.3 kB)\n",
            "Requirement already satisfied: pyparsing>=2.2.1 in /usr/local/lib/python3.7/dist-packages (from matplotlib>=3.3.4->bnlearn) (2.4.7)\n",
            "Requirement already satisfied: pillow>=6.2.0 in /usr/local/lib/python3.7/dist-packages (from matplotlib>=3.3.4->bnlearn) (7.1.2)\n",
            "Requirement already satisfied: cycler>=0.10 in /usr/local/lib/python3.7/dist-packages (from matplotlib>=3.3.4->bnlearn) (0.10.0)\n",
            "Requirement already satisfied: kiwisolver>=1.0.1 in /usr/local/lib/python3.7/dist-packages (from matplotlib>=3.3.4->bnlearn) (1.3.1)\n",
            "Requirement already satisfied: python-dateutil>=2.7 in /usr/local/lib/python3.7/dist-packages (from matplotlib>=3.3.4->bnlearn) (2.8.1)\n",
            "Requirement already satisfied: six in /usr/local/lib/python3.7/dist-packages (from cycler>=0.10->matplotlib>=3.3.4->bnlearn) (1.15.0)\n",
            "Requirement already satisfied: decorator<5,>=4.3 in /usr/local/lib/python3.7/dist-packages (from networkx>2.5->bnlearn) (4.4.2)\n",
            "Requirement already satisfied: scipy in /usr/local/lib/python3.7/dist-packages (from pgmpy>=0.1.13->bnlearn) (1.4.1)\n",
            "Requirement already satisfied: joblib in /usr/local/lib/python3.7/dist-packages (from pgmpy>=0.1.13->bnlearn) (1.0.1)\n",
            "Requirement already satisfied: torch in /usr/local/lib/python3.7/dist-packages (from pgmpy>=0.1.13->bnlearn) (1.9.0+cu102)\n",
            "Requirement already satisfied: scikit-learn in /usr/local/lib/python3.7/dist-packages (from pgmpy>=0.1.13->bnlearn) (0.22.2.post1)\n",
            "Requirement already satisfied: Flask in /usr/local/lib/python3.7/dist-packages (from community->bnlearn) (1.1.4)\n",
            "Requirement already satisfied: requests in /usr/local/lib/python3.7/dist-packages (from community->bnlearn) (2.23.0)\n",
            "Requirement already satisfied: Jinja2<3.0,>=2.10.1 in /usr/local/lib/python3.7/dist-packages (from Flask->community->bnlearn) (2.11.3)\n",
            "Requirement already satisfied: Werkzeug<2.0,>=0.15 in /usr/local/lib/python3.7/dist-packages (from Flask->community->bnlearn) (1.0.1)\n",
            "Requirement already satisfied: click<8.0,>=5.1 in /usr/local/lib/python3.7/dist-packages (from Flask->community->bnlearn) (7.1.2)\n",
            "Requirement already satisfied: itsdangerous<2.0,>=0.24 in /usr/local/lib/python3.7/dist-packages (from Flask->community->bnlearn) (1.1.0)\n",
            "Requirement already satisfied: MarkupSafe>=0.23 in /usr/local/lib/python3.7/dist-packages (from Jinja2<3.0,>=2.10.1->Flask->community->bnlearn) (2.0.1)\n",
            "Requirement already satisfied: pytz>=2017.2 in /usr/local/lib/python3.7/dist-packages (from pandas->bnlearn) (2018.9)\n",
            "Requirement already satisfied: urllib3!=1.25.0,!=1.25.1,<1.26,>=1.21.1 in /usr/local/lib/python3.7/dist-packages (from requests->community->bnlearn) (1.24.3)\n",
            "Requirement already satisfied: certifi>=2017.4.17 in /usr/local/lib/python3.7/dist-packages (from requests->community->bnlearn) (2021.5.30)\n",
            "Requirement already satisfied: chardet<4,>=3.0.2 in /usr/local/lib/python3.7/dist-packages (from requests->community->bnlearn) (3.0.4)\n",
            "Requirement already satisfied: idna<3,>=2.5 in /usr/local/lib/python3.7/dist-packages (from requests->community->bnlearn) (2.10)\n",
            "Requirement already satisfied: patsy>=0.4.0 in /usr/local/lib/python3.7/dist-packages (from statsmodels->bnlearn) (0.5.1)\n",
            "Requirement already satisfied: typing-extensions in /usr/local/lib/python3.7/dist-packages (from torch->pgmpy>=0.1.13->bnlearn) (3.7.4.3)\n",
            "Building wheels for collected packages: wget\n",
            "  Building wheel for wget (setup.py) ... \u001b[?25l\u001b[?25hdone\n",
            "  Created wheel for wget: filename=wget-3.2-py3-none-any.whl size=9673 sha256=02404205562bf95ccb4d4c789567dd0adf59477fb1ad90bf46d017e912ef7f8d\n",
            "  Stored in directory: /root/.cache/pip/wheels/a1/b6/7c/0e63e34eb06634181c63adacca38b79ff8f35c37e3c13e3c02\n",
            "Successfully built wget\n",
            "Installing collected packages: wget, pgmpy, matplotlib, ismember, funcsigs, fsspec, df2onehot, bnlearn\n",
            "  Attempting uninstall: matplotlib\n",
            "    Found existing installation: matplotlib 3.2.2\n",
            "    Uninstalling matplotlib-3.2.2:\n",
            "      Successfully uninstalled matplotlib-3.2.2\n",
            "\u001b[31mERROR: pip's dependency resolver does not currently take into account all the packages that are installed. This behaviour is the source of the following dependency conflicts.\n",
            "albumentations 0.1.12 requires imgaug<0.2.7,>=0.2.5, but you have imgaug 0.2.9 which is incompatible.\u001b[0m\n",
            "Successfully installed bnlearn-0.3.21 df2onehot-0.2.16 fsspec-2021.7.0 funcsigs-1.0.2 ismember-0.2.1 matplotlib-3.4.2 pgmpy-0.1.15 wget-3.2\n"
          ],
          "name": "stdout"
        },
        {
          "output_type": "display_data",
          "data": {
            "application/vnd.colab-display-data+json": {
              "pip_warning": {
                "packages": [
                  "matplotlib",
                  "mpl_toolkits"
                ]
              }
            }
          },
          "metadata": {
            "tags": []
          }
        }
      ]
    },
    {
      "cell_type": "code",
      "metadata": {
        "colab": {
          "base_uri": "https://localhost:8080/"
        },
        "id": "efwDxeECXQU5",
        "outputId": "284ad381-acd8-4872-f173-affe1e4ac62b"
      },
      "source": [
        "import bnlearn as bn"
      ],
      "execution_count": 1,
      "outputs": [
        {
          "output_type": "stream",
          "text": [
            "/usr/local/lib/python3.7/dist-packages/statsmodels/tools/_testing.py:19: FutureWarning: pandas.util.testing is deprecated. Use the functions in the public API at pandas.testing instead.\n",
            "  import pandas.util.testing as tm\n"
          ],
          "name": "stderr"
        }
      ]
    },
    {
      "cell_type": "code",
      "metadata": {
        "colab": {
          "base_uri": "https://localhost:8080/",
          "height": 587
        },
        "id": "_0XmIzZZXTCt",
        "outputId": "8a8cb952-9425-4b8a-f2af-d667bd9fa3fc"
      },
      "source": [
        "import bnlearn as bn\n",
        "\n",
        "# Define the causal dependencies based on your expert/domain knowledge.\n",
        "# Left is the source, and right is the target node.\n",
        "edges = [('Cloudy', 'Sprinkler'),\n",
        "         ('Cloudy', 'Rain'),\n",
        "         ('Sprinkler', 'Wet_Grass'),\n",
        "         ('Rain', 'Wet_Grass')]\n",
        "\n",
        "\n",
        "# Create the DAG\n",
        "DAG = bn.make_DAG(edges)\n",
        "\n",
        "# Plot the DAG\n",
        "bn.plot(DAG)\n",
        "\n",
        "# DAG is stored in an adjacency matrix\n",
        "DAG[\"adjmat\"]\n"
      ],
      "execution_count": 3,
      "outputs": [
        {
          "output_type": "stream",
          "text": [
            "[bnlearn] >Bayesian DAG created.\n",
            "[bnlearn] >Plot based on BayesianModel\n"
          ],
          "name": "stdout"
        },
        {
          "output_type": "display_data",
          "data": {
            "image/png": "[encoded data removed]",
            "text/plain": [
              "<Figure size 1080x576 with 1 Axes>"
            ]
          },
          "metadata": {
            "tags": []
          }
        },
        {
          "output_type": "execute_result",
          "data": {
            "text/html": [
              "<div>\n",
              "<style scoped>\n",
              "    .dataframe tbody tr th:only-of-type {\n",
              "        vertical-align: middle;\n",
              "    }\n",
              "\n",
              "    .dataframe tbody tr th {\n",
              "        vertical-align: top;\n",
              "    }\n",
              "\n",
              "    .dataframe thead th {\n",
              "        text-align: right;\n",
              "    }\n",
              "</style>\n",
              "<table border=\"1\" class=\"dataframe\">\n",
              "  <thead>\n",
              "    <tr style=\"text-align: right;\">\n",
              "      <th>target</th>\n",
              "      <th>Cloudy</th>\n",
              "      <th>Sprinkler</th>\n",
              "      <th>Rain</th>\n",
              "      <th>Wet_Grass</th>\n",
              "    </tr>\n",
              "    <tr>\n",
              "      <th>source</th>\n",
              "      <th></th>\n",
              "      <th></th>\n",
              "      <th></th>\n",
              "      <th></th>\n",
              "    </tr>\n",
              "  </thead>\n",
              "  <tbody>\n",
              "    <tr>\n",
              "      <th>Cloudy</th>\n",
              "      <td>False</td>\n",
              "      <td>True</td>\n",
              "      <td>True</td>\n",
              "      <td>False</td>\n",
              "    </tr>\n",
              "    <tr>\n",
              "      <th>Sprinkler</th>\n",
              "      <td>False</td>\n",
              "      <td>False</td>\n",
              "      <td>False</td>\n",
              "      <td>True</td>\n",
              "    </tr>\n",
              "    <tr>\n",
              "      <th>Rain</th>\n",
              "      <td>False</td>\n",
              "      <td>False</td>\n",
              "      <td>False</td>\n",
              "      <td>True</td>\n",
              "    </tr>\n",
              "    <tr>\n",
              "      <th>Wet_Grass</th>\n",
              "      <td>False</td>\n",
              "      <td>False</td>\n",
              "      <td>False</td>\n",
              "      <td>False</td>\n",
              "    </tr>\n",
              "  </tbody>\n",
              "</table>\n",
              "</div>"
            ],
            "text/plain": [
              "target     Cloudy  Sprinkler   Rain  Wet_Grass\n",
              "source                                        \n",
              "Cloudy      False       True   True      False\n",
              "Sprinkler   False      False  False       True\n",
              "Rain        False      False  False       True\n",
              "Wet_Grass   False      False  False      False"
            ]
          },
          "metadata": {
            "tags": []
          },
          "execution_count": 3
        }
      ]
    },
    {
      "cell_type": "code",
      "metadata": {
        "colab": {
          "base_uri": "https://localhost:8080/"
        },
        "id": "UQo3z4eZYBgD",
        "outputId": "648f2990-3304-47b3-dc5f-20e888fd2523"
      },
      "source": [
        "# Import the library\n",
        "from pgmpy.factors.discrete import TabularCPD\n",
        "\n",
        "# Cloudy\n",
        "cpt_cloudy = TabularCPD(variable='Cloudy', variable_card=2, values=[[0.3], [0.7]])\n",
        "print(cpt_cloudy)"
      ],
      "execution_count": 4,
      "outputs": [
        {
          "output_type": "stream",
          "text": [
            "+-----------+-----+\n",
            "| Cloudy(0) | 0.3 |\n",
            "+-----------+-----+\n",
            "| Cloudy(1) | 0.7 |\n",
            "+-----------+-----+\n"
          ],
          "name": "stdout"
        }
      ]
    },
    {
      "cell_type": "code",
      "metadata": {
        "colab": {
          "base_uri": "https://localhost:8080/"
        },
        "id": "OeYdhUJFYQds",
        "outputId": "21911cc5-2859-4155-b8cb-fe8565e3637a"
      },
      "source": [
        "cpt_rain = TabularCPD(variable='Rain', variable_card=2,\n",
        "                      values=[[0.8, 0.2],\n",
        "                              [0.2, 0.8]],\n",
        "                      evidence=['Cloudy'], evidence_card=[2])\n",
        "print(cpt_rain)"
      ],
      "execution_count": 5,
      "outputs": [
        {
          "output_type": "stream",
          "text": [
            "+---------+-----------+-----------+\n",
            "| Cloudy  | Cloudy(0) | Cloudy(1) |\n",
            "+---------+-----------+-----------+\n",
            "| Rain(0) | 0.8       | 0.2       |\n",
            "+---------+-----------+-----------+\n",
            "| Rain(1) | 0.2       | 0.8       |\n",
            "+---------+-----------+-----------+\n"
          ],
          "name": "stdout"
        }
      ]
    },
    {
      "cell_type": "code",
      "metadata": {
        "colab": {
          "base_uri": "https://localhost:8080/"
        },
        "id": "4TxSEJVsYQ2-",
        "outputId": "2349db5e-cdf6-44a1-81d2-b99879c09451"
      },
      "source": [
        "\n",
        "cpt_sprinkler = TabularCPD(variable='Sprinkler', variable_card=2,\n",
        "                           values=[[0.5, 0.9],\n",
        "                                   [0.5, 0.1]],\n",
        "                           evidence=['Cloudy'], evidence_card=[2])\n",
        "print(cpt_sprinkler)\n",
        "\n"
      ],
      "execution_count": 6,
      "outputs": [
        {
          "output_type": "stream",
          "text": [
            "+--------------+-----------+-----------+\n",
            "| Cloudy       | Cloudy(0) | Cloudy(1) |\n",
            "+--------------+-----------+-----------+\n",
            "| Sprinkler(0) | 0.5       | 0.9       |\n",
            "+--------------+-----------+-----------+\n",
            "| Sprinkler(1) | 0.5       | 0.1       |\n",
            "+--------------+-----------+-----------+\n"
          ],
          "name": "stdout"
        }
      ]
    },
    {
      "cell_type": "code",
      "metadata": {
        "colab": {
          "base_uri": "https://localhost:8080/"
        },
        "id": "rxaDhyZ4YRA1",
        "outputId": "0f6bf83d-d26d-47c0-e58b-28473af509da"
      },
      "source": [
        "cpt_wet_grass = TabularCPD(variable='Wet_Grass', variable_card=2,\n",
        "                           values=[[1, 0.1, 0.1, 0.01],\n",
        "                                   [0, 0.9, 0.9, 0.99]],\n",
        "                           evidence=['Sprinkler', 'Rain'],\n",
        "                           evidence_card=[2, 2])\n",
        "print(cpt_wet_grass)"
      ],
      "execution_count": 7,
      "outputs": [
        {
          "output_type": "stream",
          "text": [
            "+--------------+--------------+--------------+--------------+--------------+\n",
            "| Sprinkler    | Sprinkler(0) | Sprinkler(0) | Sprinkler(1) | Sprinkler(1) |\n",
            "+--------------+--------------+--------------+--------------+--------------+\n",
            "| Rain         | Rain(0)      | Rain(1)      | Rain(0)      | Rain(1)      |\n",
            "+--------------+--------------+--------------+--------------+--------------+\n",
            "| Wet_Grass(0) | 1.0          | 0.1          | 0.1          | 0.01         |\n",
            "+--------------+--------------+--------------+--------------+--------------+\n",
            "| Wet_Grass(1) | 0.0          | 0.9          | 0.9          | 0.99         |\n",
            "+--------------+--------------+--------------+--------------+--------------+\n"
          ],
          "name": "stdout"
        }
      ]
    },
    {
      "cell_type": "code",
      "metadata": {
        "colab": {
          "base_uri": "https://localhost:8080/"
        },
        "id": "SZpsfevTYRIJ",
        "outputId": "dc144fcd-d1d9-4ac2-c385-3facca56c290"
      },
      "source": [
        "# Update DAG with the CPTs\n",
        "model = bn.make_DAG(DAG, CPD=[cpt_cloudy, cpt_sprinkler, cpt_rain, cpt_wet_grass])\n",
        "\n",
        "# Print the CPTs\n",
        "bn.print_CPD(model)"
      ],
      "execution_count": 8,
      "outputs": [
        {
          "output_type": "stream",
          "text": [
            "[bnlearn] >No changes made to existing Bayesian DAG.\n",
            "[bnlearn] >Add CPD: Cloudy\n",
            "[bnlearn] >Add CPD: Sprinkler\n",
            "[bnlearn] >Add CPD: Rain\n",
            "[bnlearn] >Add CPD: Wet_Grass\n",
            "[bnlearn] >Checking CPDs..\n",
            "[bnlearn] >Check for DAG structure. Correct: True\n",
            "CPD of Cloudy:\n",
            "+-----------+-----+\n",
            "| Cloudy(0) | 0.3 |\n",
            "+-----------+-----+\n",
            "| Cloudy(1) | 0.7 |\n",
            "+-----------+-----+\n",
            "CPD of Sprinkler:\n",
            "+--------------+-----------+-----------+\n",
            "| Cloudy       | Cloudy(0) | Cloudy(1) |\n",
            "+--------------+-----------+-----------+\n",
            "| Sprinkler(0) | 0.5       | 0.9       |\n",
            "+--------------+-----------+-----------+\n",
            "| Sprinkler(1) | 0.5       | 0.1       |\n",
            "+--------------+-----------+-----------+\n",
            "CPD of Rain:\n",
            "+---------+-----------+-----------+\n",
            "| Cloudy  | Cloudy(0) | Cloudy(1) |\n",
            "+---------+-----------+-----------+\n",
            "| Rain(0) | 0.8       | 0.2       |\n",
            "+---------+-----------+-----------+\n",
            "| Rain(1) | 0.2       | 0.8       |\n",
            "+---------+-----------+-----------+\n",
            "CPD of Wet_Grass:\n",
            "+--------------+--------------+--------------+--------------+--------------+\n",
            "| Sprinkler    | Sprinkler(0) | Sprinkler(0) | Sprinkler(1) | Sprinkler(1) |\n",
            "+--------------+--------------+--------------+--------------+--------------+\n",
            "| Rain         | Rain(0)      | Rain(1)      | Rain(0)      | Rain(1)      |\n",
            "+--------------+--------------+--------------+--------------+--------------+\n",
            "| Wet_Grass(0) | 1.0          | 0.1          | 0.1          | 0.01         |\n",
            "+--------------+--------------+--------------+--------------+--------------+\n",
            "| Wet_Grass(1) | 0.0          | 0.9          | 0.9          | 0.99         |\n",
            "+--------------+--------------+--------------+--------------+--------------+\n",
            "[bnlearn] >Independencies:\n",
            "(Wet_Grass ⟂ Cloudy | Rain, Sprinkler)\n",
            "(Rain ⟂ Sprinkler | Cloudy)\n",
            "(Cloudy ⟂ Wet_Grass | Rain, Sprinkler)\n",
            "(Sprinkler ⟂ Rain | Cloudy)\n",
            "[bnlearn] >Nodes: ['Cloudy', 'Sprinkler', 'Rain', 'Wet_Grass']\n",
            "[bnlearn] >Edges: [('Cloudy', 'Sprinkler'), ('Cloudy', 'Rain'), ('Sprinkler', 'Wet_Grass'), ('Rain', 'Wet_Grass')]\n"
          ],
          "name": "stdout"
        }
      ]
    },
    {
      "cell_type": "code",
      "metadata": {
        "colab": {
          "base_uri": "https://localhost:8080/"
        },
        "id": "5iuV_ZSgYR63",
        "outputId": "2fc52300-f4de-4ddf-a603-e8e3cb9ed327"
      },
      "source": [
        "q1 = bn.inference.fit(model, variables=['Wet_Grass'], evidence={'Sprinkler':0})\n",
        "print(q1.df)"
      ],
      "execution_count": 9,
      "outputs": [
        {
          "output_type": "stream",
          "text": [
            "Finding Elimination Order: : 100%|██████████| 2/2 [00:00<00:00, 304.90it/s]\n",
            "Eliminating: Cloudy: 100%|██████████| 2/2 [00:00<00:00, 174.77it/s]"
          ],
          "name": "stderr"
        },
        {
          "output_type": "stream",
          "text": [
            "[bnlearn] >Variable Elimination..\n",
            "+--------------+------------------+\n",
            "| Wet_Grass    |   phi(Wet_Grass) |\n",
            "+==============+==================+\n",
            "| Wet_Grass(0) |           0.3838 |\n",
            "+--------------+------------------+\n",
            "| Wet_Grass(1) |           0.6162 |\n",
            "+--------------+------------------+\n",
            "   Wet_Grass         p\n",
            "0          0  0.383846\n",
            "1          1  0.616154\n"
          ],
          "name": "stdout"
        },
        {
          "output_type": "stream",
          "text": [
            "\n"
          ],
          "name": "stderr"
        }
      ]
    },
    {
      "cell_type": "code",
      "metadata": {
        "colab": {
          "base_uri": "https://localhost:8080/"
        },
        "id": "rkwEc65Fc5iR",
        "outputId": "58e768c6-638f-4034-cd71-8b159bc46307"
      },
      "source": [
        "q2 = bn.inference.fit(model, variables=['Rain'], evidence={'Sprinkler':0, 'Cloudy':1})\n",
        "print(q2.df)"
      ],
      "execution_count": 10,
      "outputs": [
        {
          "output_type": "stream",
          "text": [
            "Finding Elimination Order: : : 0it [00:00, ?it/s]\n",
            "0it [00:00, ?it/s]"
          ],
          "name": "stderr"
        },
        {
          "output_type": "stream",
          "text": [
            "[bnlearn] >Variable Elimination..\n",
            "+---------+-------------+\n",
            "| Rain    |   phi(Rain) |\n",
            "+=========+=============+\n",
            "| Rain(0) |      0.2000 |\n",
            "+---------+-------------+\n",
            "| Rain(1) |      0.8000 |\n",
            "+---------+-------------+\n",
            "   Rain    p\n",
            "0     0  0.2\n",
            "1     1  0.8\n"
          ],
          "name": "stdout"
        },
        {
          "output_type": "stream",
          "text": [
            "\n"
          ],
          "name": "stderr"
        }
      ]
    },
    {
      "cell_type": "code",
      "metadata": {
        "colab": {
          "base_uri": "https://localhost:8080/"
        },
        "id": "TMYBSB-4c5uJ",
        "outputId": "87b40f12-d354-4c9f-c970-661f7c7ab430"
      },
      "source": [
        "q3 = bn.inference.fit(model, variables=['Wet_Grass','Rain'], evidence={'Sprinkler':1})\n",
        "print(q3.df)"
      ],
      "execution_count": 11,
      "outputs": [
        {
          "output_type": "stream",
          "text": [
            "Finding Elimination Order: : 100%|██████████| 1/1 [00:00<00:00, 146.00it/s]\n",
            "Eliminating: Cloudy: 100%|██████████| 1/1 [00:00<00:00, 166.31it/s]"
          ],
          "name": "stderr"
        },
        {
          "output_type": "stream",
          "text": [
            "[bnlearn] >Variable Elimination..\n",
            "+---------+--------------+-----------------------+\n",
            "| Rain    | Wet_Grass    |   phi(Rain,Wet_Grass) |\n",
            "+=========+==============+=======================+\n",
            "| Rain(0) | Wet_Grass(0) |                0.0609 |\n",
            "+---------+--------------+-----------------------+\n",
            "| Rain(0) | Wet_Grass(1) |                0.5482 |\n",
            "+---------+--------------+-----------------------+\n",
            "| Rain(1) | Wet_Grass(0) |                0.0039 |\n",
            "+---------+--------------+-----------------------+\n",
            "| Rain(1) | Wet_Grass(1) |                0.3870 |\n",
            "+---------+--------------+-----------------------+\n",
            "   Rain  Wet_Grass         p\n",
            "0     0          0  0.060909\n",
            "1     0          1  0.548182\n",
            "2     1          0  0.003909\n",
            "3     1          1  0.387000\n"
          ],
          "name": "stdout"
        },
        {
          "output_type": "stream",
          "text": [
            "\n"
          ],
          "name": "stderr"
        }
      ]
    },
    {
      "cell_type": "code",
      "metadata": {
        "id": "gpZpoHo0c56g"
      },
      "source": [
        ""
      ],
      "execution_count": null,
      "outputs": []
    }
  ]
}